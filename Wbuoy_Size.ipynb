{
 "cells": [
  {
   "cell_type": "code",
   "execution_count": 2,
   "metadata": {},
   "outputs": [],
   "source": [
    "import numpy as np\n",
    "import pandas as pd\n",
    "import random\n",
    "from scipy.interpolate import interp1d\n",
    "import matplotlib.pyplot as plt\n",
    "from scipy import interpolate\n",
    "import matplotlib.ticker as plticker\n",
    "from matplotlib.colors import LinearSegmentedColormap\n",
    "import yaml"
   ]
  },
  {
   "cell_type": "code",
   "execution_count": 3,
   "metadata": {},
   "outputs": [],
   "source": [
    "# Experimental parameters\n",
    "\n",
    "# read input data from Init yaml file\n",
    "\n",
    "with open(\"Init.yaml\", \"r\") as file:\n",
    "\n",
    "\n",
    "    Init = yaml.safe_load(file)\n",
    "\n",
    "\n",
    "rho_oil = Init[\"oil_density\"]  # oil density\n",
    "\n",
    "\n",
    "D0 = Init[\"nozzle_diameter\"]  # nozzle diameter (m)\n",
    "\n",
    "\n",
    "V0 = Init[\"release_vel\"]  # release vertical velocity (m s^-1)\n",
    "\n",
    "\n",
    "dyn_visc_oil = 0.0093479  # dynamic viscosity [N m^-2 s]\n",
    "\n",
    "\n",
    "kin_visc_oil = dyn_visc_oil / rho_oil\n",
    "\n",
    "\n",
    "N_particles = 2500  # number of parcels\n",
    "\n",
    "\n",
    "rho_a = 1029.0  # water density at release point\n",
    "\n",
    "\n",
    "interf_tens = 0.019  # Interfacial oil water tension (N/m)"
   ]
  },
  {
   "cell_type": "code",
   "execution_count": 4,
   "metadata": {},
   "outputs": [],
   "source": [
    "# Empirical parameters\n",
    "\n",
    "r = 14.05\n",
    "p = 0.46\n",
    "q = -0.518"
   ]
  },
  {
   "cell_type": "code",
   "execution_count": 5,
   "metadata": {},
   "outputs": [
    {
     "name": "stdout",
     "output_type": "stream",
     "text": [
      "Rayleigh_Taylor diameter: 0.014985206945152804\n",
      "Characteristic MAX diameter: 0.014985206945152804\n"
     ]
    }
   ],
   "source": [
    "# Maximum Characteristic Parcel Diameter d0\n",
    "\n",
    "d_RT = (\n",
    "    4 * (interf_tens / ((rho_a - rho_oil) * 9.81)) ** 0.5\n",
    ")  # Rayleigh - Taylor instability maximum diameter (Li et al,. 2017; Grace et al., 1978)\n",
    "\n",
    "d0 = min(d_RT, D0)  # minimum between nozzle diameter and d_RT\n",
    "print(\"Rayleigh_Taylor diameter:\", d_RT)\n",
    "print(\"Characteristic MAX diameter:\", d0)"
   ]
  },
  {
   "cell_type": "code",
   "execution_count": 6,
   "metadata": {},
   "outputs": [],
   "source": [
    "# Dimensionless characteristic numbers: Weber and Ohnesorge number\n",
    "\n",
    "\n",
    "We = rho_a * V0**2 * d0 / interf_tens\n",
    "\n",
    "Oh = dyn_visc_oil / ((rho_oil * interf_tens * d0) ** 0.5)"
   ]
  },
  {
   "cell_type": "code",
   "execution_count": 7,
   "metadata": {},
   "outputs": [
    {
     "name": "stdout",
     "output_type": "stream",
     "text": [
      "median diameter d50 0.003455036763939032\n"
     ]
    }
   ],
   "source": [
    "# Parcel Median Diameter\n",
    "\n",
    "\n",
    "d50 = (r * (1 + 10 * Oh) ** p) * (We**q) * d0  # (m)\n",
    "\n",
    "\n",
    "print(\"median diameter d50\", d50)"
   ]
  },
  {
   "cell_type": "code",
   "execution_count": 16,
   "metadata": {},
   "outputs": [],
   "source": [
    "Nbins = 200\n",
    "delta = d0 / Nbins  # equal size ranges bewtween 0 and d0\n",
    "\n",
    "d = np.zeros(Nbins)\n",
    "bins = np.zeros(Nbins + 1)\n",
    "f = np.zeros(Nbins)\n",
    "f_abs = np.zeros(Nbins)\n",
    "cum = np.zeros(Nbins)\n",
    "w = np.zeros(Nbins)\n",
    "\n",
    "ln_sigma = 0.5"
   ]
  },
  {
   "cell_type": "code",
   "execution_count": 17,
   "metadata": {},
   "outputs": [
    {
     "name": "stdout",
     "output_type": "stream",
     "text": [
      "sumf 0.998329438393827\n",
      "[ 0  0  0  0  0  0  0  0  1  1  2  4  5  7  9 12 15 17 20 23 26 29 32 34\n",
      " 37 39 41 43 44 45 47 47 48 49 49 49 49 49 49 48 48 47 46 46 45 44 43 42\n",
      " 41 40 39 38 37 36 35 34 33 32 30 29 28 28 27 26 25 24 23 22 21 21 20 19\n",
      " 18 18 17 16 16 15 14 14 13 13 12 12 11 11 10 10 10  9  9  9  8  8  8  7\n",
      "  7  7  6  6  6  6  5  5  5  5  5  4  4  4  4  4  4  3  3  3  3  3  3  3\n",
      "  3  3  2  2  2  2  2  2  2  2  2  2  2  2  2  1  1  1  1  1  1  1  1  1\n",
      "  1  1  1  1  1  1  1  1  1  1  1  1  1  1  1  1  1  1  1  0  0  0  0  0\n",
      "  0  0  0  0  0  0  0  0  0  0  0  0  0  0  0  0  0  0  0  0  0  0  0  0\n",
      "  0  0  0  0  0  0  0  0]\n",
      "tot particles before correction 2495\n",
      "tot particles after correction 2500\n"
     ]
    }
   ],
   "source": [
    "# Construct the diameters histogram\n",
    "\n",
    "for j in range(0, Nbins):  # da 0 a 29\n",
    "\n",
    "    d[j] = 0.5 * delta + j * delta  # diameter of bin j\n",
    "\n",
    "    bins[j + 1] = delta + j * delta  # diameter of bin j\n",
    "\n",
    "    f[j] = (\n",
    "        1\n",
    "        / ((2 * np.pi) ** 0.5 * ln_sigma * d[j])\n",
    "        * np.exp(-((np.log(d[j]) - np.log(d50)) ** 2) / (2 * ln_sigma**2))\n",
    "        * delta\n",
    "    )\n",
    "\n",
    "\n",
    "# Renormalization\n",
    "\n",
    "sumf = np.sum(f)\n",
    "\n",
    "\n",
    "print(\"sumf\", sumf)\n",
    "\n",
    "\n",
    "f_abs = np.around(f / sumf * N_particles).astype(\n",
    "    int\n",
    ")  # Number of particles for each of the Nbins droplet diameter ranges\n",
    "print(f_abs)\n",
    "sumf_abs = np.sum(f_abs)\n",
    "\n",
    "\n",
    "print(\"tot particles before correction\", sumf_abs)\n",
    "\n",
    "\n",
    "# convert tot number to Nparticles\n",
    "\n",
    "\n",
    "while sumf_abs < N_particles:\n",
    "\n",
    "    rand_int = random.randint(0, Nbins - 1)\n",
    "\n",
    "    f_abs[rand_int] += 1\n",
    "    sumf_abs = np.sum(f_abs)\n",
    "\n",
    "\n",
    "while sumf_abs > N_particles:\n",
    "\n",
    "    rand_int = random.randint(0, Nbins - 1)\n",
    "\n",
    "    f_abs[rand_int] -= 1\n",
    "    sumf_abs = np.sum(f_abs)\n",
    "\n",
    "\n",
    "print(\"tot particles after correction\", sumf_abs)"
   ]
  },
  {
   "cell_type": "code",
   "execution_count": 18,
   "metadata": {},
   "outputs": [],
   "source": [
    "# Cumulative\n",
    "\n",
    "for j in range(0, Nbins):\n",
    "    for i in range(0, j + 1):\n",
    "        cum[j] += f_abs[i]\n"
   ]
  },
  {
   "cell_type": "code",
   "execution_count": 19,
   "metadata": {},
   "outputs": [
    {
     "name": "stderr",
     "output_type": "stream",
     "text": [
      "C:\\Users\\Giulia\\AppData\\Local\\Temp\\ipykernel_9100\\3476412378.py:44: UserWarning: No artists with labels found to put in legend.  Note that artists whose label start with an underscore are ignored when legend() is called with no argument.\n",
      "  plt.legend()\n"
     ]
    },
    {
     "data": {
      "text/plain": [
       "<Figure size 640x480 with 0 Axes>"
      ]
     },
     "metadata": {},
     "output_type": "display_data"
    },
    {
     "data": {
      "image/png": "[encoded data removed]",
      "text/plain": [
       "<Figure size 850x350 with 1 Axes>"
      ]
     },
     "metadata": {},
     "output_type": "display_data"
    },
    {
     "data": {
      "image/png": "[encoded data removed]",
      "text/plain": [
       "<Figure size 850x350 with 1 Axes>"
      ]
     },
     "metadata": {},
     "output_type": "display_data"
    }
   ],
   "source": [
    "#  PLOTS\n",
    "\n",
    "plt.clf()  # avoid overplot\n",
    "\n",
    "# PLOT DISTRIBUTION\n",
    "fig, ax = plt.subplots()\n",
    "fig.set_size_inches(8.5, 3.5, forward=True)\n",
    "plt.grid(\"both\", alpha=0.3)\n",
    "\n",
    "d1 = d * 1000  # (to mm)\n",
    "bins1 = bins * 1000  # (to mm)\n",
    "N, bins, patches = (\n",
    "    ax.hist(  # N equals f_abs, the number of parcels in each bin, bins are bin edges, patches are rectangulars\n",
    "        d1, bins=bins1, weights=f_abs, edgecolor=\"white\", linewidth=0.5, alpha=0.8\n",
    "    )\n",
    ")\n",
    "\n",
    "\n",
    "## Create the colormap\n",
    "colors = [\n",
    "    tuple(np.array((250, 232, 92)) / 255),  # yellow\n",
    "    tuple(np.array((245, 106, 41)) / 255),  # orange\n",
    "    tuple(np.array((211, 31, 40)) / 255),  # red\n",
    "    # tuple(np.array((73,181,70))/255),   # green\n",
    "    tuple(np.array((0, 127, 255)) / 255),  # blue\n",
    "    tuple(np.array((0, 0, 255)) / 255),  # blue\n",
    "    tuple(np.array((0, 0, 128)) / 255),  # blue\n",
    "    tuple(np.array((0, 0, 0)) / 255),\n",
    "]  # black\n",
    "\n",
    "\n",
    "mycmap = LinearSegmentedColormap.from_list(\"WhiteBlueGreenYellowRed\", colors, N=10)\n",
    "\n",
    "for b, p in zip(bins1 / max(bins), patches):\n",
    "    plt.setp(p, \"facecolor\", mycmap(b))\n",
    "\n",
    "\n",
    "plt.xlabel(\"d (mm)\", fontsize=10)\n",
    "plt.ylabel(\"Frequency (N=\" + str(N_particles) + \")\", fontsize=10)\n",
    "d1r = np.round(d1, 1)\n",
    "# plt.xticks(d1r, fontsize=6 )\n",
    "# plt.yticks(fontsize=8 )\n",
    "# plt.xscale('log')\n",
    "plt.legend()\n",
    "# plt.show()\n",
    "plt.savefig(\"./size_distr_N\" + str(N_particles) + \".png\", bbox_inches=\"tight\", dpi=300)\n",
    "\n",
    "\n",
    "# PLOT CUMULATIVE\n",
    "\n",
    "fig = plt.figure()\n",
    "fig.set_size_inches(8.5, 3.5, forward=True)\n",
    "plt.grid(\"both\", alpha=0.3)\n",
    "# plt.xscale('log')\n",
    "plt.hist(d1, bins=bins1, weights=cum, histtype=\"step\", fill=True, alpha=0.5)\n",
    "# plt.xticks(d1, fontsize=4)\n",
    "# plt.xscale('log')\n",
    "plt.xlabel(\"d (mm)\")\n",
    "plt.ylabel(\"Cumulative\")\n",
    "# plt.show()\n",
    "plt.savefig(\"./cumulative\" + str(N_particles) + \".png\", bbox_inches=\"tight\", dpi=300)"
   ]
  },
  {
   "cell_type": "code",
   "execution_count": 21,
   "metadata": {},
   "outputs": [
    {
     "name": "stdout",
     "output_type": "stream",
     "text": [
      "Critical diameter is 0.004163740082321075 mm\n"
     ]
    }
   ],
   "source": [
    "# CALCULATE critical diameter\n",
    "\n",
    "dc = (\n",
    "    9.52\n",
    "    * kin_visc_oil ** (2 / 3)\n",
    "    * 9.81 ** (-1 / 3)\n",
    "    * (1 - rho_oil / rho_a) ** (-1 / 3)\n",
    ")\n",
    "print(\"Critical diameter is {} mm\".format(dc))\n",
    "\n",
    "for i in range(0, Nbins):\n",
    "    if d[i] < dc:\n",
    "        w[i] = (9.81 * d[i] ** 2 * (1 - rho_oil / rho_a)) / (18 * kin_visc_oil)\n",
    "    elif d[i] > dc:\n",
    "        w[i] = (8 / 3 * 9.81 * d[i] * (1 - rho_oil / rho_a)) ** (1 / 2)"
   ]
  },
  {
   "cell_type": "code",
   "execution_count": 22,
   "metadata": {},
   "outputs": [
    {
     "data": {
      "image/png": "[encoded data removed]",
      "text/plain": [
       "<Figure size 850x450 with 1 Axes>"
      ]
     },
     "metadata": {},
     "output_type": "display_data"
    }
   ],
   "source": [
    "# PLOT VERTICAL BUOYANT VELOCITY\n",
    "\n",
    "\n",
    "fig = plt.figure()\n",
    "\n",
    "fig.set_size_inches(8.5, 4.5, forward=True)\n",
    "\n",
    "plt.grid(\"both\", alpha=0.3)\n",
    "\n",
    "plt.axvline(\n",
    "    x=dc * 1000,\n",
    "    color=\"gray\",\n",
    "    linestyle=\"-\",\n",
    "    alpha=0.8,\n",
    "    label=r\"$d_c =$ \" + str(\"%.1f\" % (dc * 1000)) + \" mm\",\n",
    ")\n",
    "\n",
    "plt.scatter(d1r, w, color=\"black\", s=2)\n",
    "\n",
    "# plt.xscale('log')\n",
    "\n",
    "\n",
    "plt.xlabel(\"d (mm)\", fontsize=10)\n",
    "\n",
    "# plt.xticks(d1r, fontsize=6 )\n",
    "\n",
    "# plt.yticks(fontsize=8 )\n",
    "\n",
    "# plt.xlim([0,15])\n",
    "\n",
    "plt.ylabel(\"Buoyant Velocity (m/s)\", fontsize=10)\n",
    "plt.legend()\n",
    "\n",
    "# plt.show()\n",
    "\n",
    "plt.savefig(\"./buoyant_velocities.png\", bbox_inches=\"tight\", dpi=300)\n",
    "\n",
    "\n",
    "# rint('size of fabs:', f_abs.size)\n",
    "\n",
    "# print('size of w:', w.size)\n",
    "\n",
    "\n",
    "data = {\"Diam (mm)\": d * 1000, \"w_buoy (m/s)\": -w, \"Frequency\": f}\n",
    "datafile = pd.DataFrame(data)\n",
    "datafile.to_csv(\"w_buoy.csv\", index=False, sep=\"\\t\", float_format=\"%.4f\")"
   ]
  }
 ],
 "metadata": {
  "kernelspec": {
   "display_name": "Python 3",
   "language": "python",
   "name": "python3"
  },
  "language_info": {
   "codemirror_mode": {
    "name": "ipython",
    "version": 3
   },
   "file_extension": ".py",
   "mimetype": "text/x-python",
   "name": "python",
   "nbconvert_exporter": "python",
   "pygments_lexer": "ipython3",
   "version": "3.11.11"
  }
 },
 "nbformat": 4,
 "nbformat_minor": 2
}
